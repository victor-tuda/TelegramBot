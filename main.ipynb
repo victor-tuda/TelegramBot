{
 "cells": [
  {
   "cell_type": "code",
   "execution_count": 6,
   "id": "de7a05a6-57ca-4e66-827e-1c1dcc2c0fae",
   "metadata": {},
   "outputs": [],
   "source": [
    "import logging\n",
    "\n",
    "from telegram import (\n",
    "    Poll,\n",
    "    ParseMode,\n",
    "    KeyboardButton,\n",
    "    KeyboardButtonPollType,\n",
    "    ReplyKeyboardMarkup,\n",
    "    ReplyKeyboardRemove,\n",
    "    Update,\n",
    ")\n",
    "from telegram.ext import (\n",
    "    Updater,\n",
    "    CommandHandler,\n",
    "    PollAnswerHandler,\n",
    "    PollHandler,\n",
    "    MessageHandler,\n",
    "    Filters,\n",
    "    CallbackContext,\n",
    ")"
   ]
  },
  {
   "cell_type": "code",
   "execution_count": null,
   "id": "1983305c-a2fb-4379-8bc5-43389913804e",
   "metadata": {},
   "outputs": [],
   "source": [
    "import requests\n",
    "import datetime\n",
    "import tzlocal"
   ]
  },
  {
   "cell_type": "code",
   "execution_count": 3,
   "id": "d3fe29e5-4546-4392-a832-fa8afec6c93a",
   "metadata": {},
   "outputs": [],
   "source": [
    "logging.basicConfig(\n",
    "    format='%(asctime)s - %(name)s - %(levelname)s - %(message)s', level=logging.INFO\n",
    ")\n",
    "logger = logging.getLogger(__name__)"
   ]
  },
  {
   "cell_type": "code",
   "execution_count": null,
   "id": "2171aacd-89f7-4f40-98b3-0499bca9fa08",
   "metadata": {},
   "outputs": [],
   "source": [
    "token_owm = '7128a67c5491f64f8e8a4852e3851877'\n",
    "lat = '-23.54365'\n",
    "lon = '-47.49862'"
   ]
  },
  {
   "cell_type": "code",
   "execution_count": null,
   "id": "b45aad74-97db-4550-b917-5999febfbe32",
   "metadata": {},
   "outputs": [],
   "source": [
    "def dados_clima(token, lat, lon):\n",
    "    values = []\n",
    "    r = requests.get(f'https://api.openweathermap.org/data/2.5/onecall?lat={lat}&lon={lon}&lang=pt_br&units=metric&exclude=minutely,hourly&appid={token}')\n",
    "    for i in range(4, 7):\n",
    "        values.append(r.json()['daily'][i]['weather'][0]['description'])\n",
    "    return values"
   ]
  },
  {
   "cell_type": "code",
   "execution_count": 4,
   "id": "e23d489d-1387-4e25-b120-c1d73c7c4bca",
   "metadata": {},
   "outputs": [],
   "source": [
    "def start(update: Update, context: CallbackContext) -> None:\n",
    "    \"\"\"Inform user about what this bot can do\"\"\"\n",
    "    update.message.reply_text(\n",
    "        'Please select /poll to get a Poll, /quiz to get a Quiz or /preview'\n",
    "        ' to generate a preview for your poll'\n",
    "    )"
   ]
  },
  {
   "cell_type": "code",
   "execution_count": 5,
   "id": "b1bfe5d1-4b91-427e-a962-503b99d94d54",
   "metadata": {},
   "outputs": [],
   "source": [
    "def poll(update: Update, context: CallbackContext) -> None:\n",
    "    \"\"\"Envia uma poll predefinida\"\"\"\n",
    "    questions = [\"Sexta-Feira\", \"Sábado\", \"Domingo\"]\n",
    "    message = context.bot.send_poll(\n",
    "        update.effective_chat.id,\n",
    "        \"Presença Ocupação Dandara\",\n",
    "        questions,\n",
    "        is_anonymous=False,\n",
    "        allows_multiple_answers=True,\n",
    "    )\n",
    "    # Save some info about the poll the bot_data for later use in receive_poll_answer\n",
    "    payload = {\n",
    "        message.poll.id: {\n",
    "            \"questions\": questions,\n",
    "            \"message_id\": message.message_id,\n",
    "            \"chat_id\": update.effective_chat.id,\n",
    "            \"answers\": 0,\n",
    "        }\n",
    "    }\n",
    "    context.bot_data.update(payload)\n",
    "\n",
    "\n",
    "def receive_poll_answer(update: Update, context: CallbackContext) -> None:\n",
    "    \"\"\"Efetua a votação dos usuários\"\"\"\n",
    "    answer = update.poll_answer\n",
    "    poll_id = answer.poll_id\n",
    "    try:\n",
    "        questions = context.bot_data[poll_id][\"questions\"]\n",
    "    # this means this poll answer update is from an old poll, we can't do our answering then\n",
    "    except KeyError:\n",
    "        return\n",
    "    selected_options = answer.option_ids\n",
    "    answer_string = \"\"\n",
    "    for question_id in selected_options:\n",
    "        if question_id != selected_options[-1]:\n",
    "            answer_string += questions[question_id] + \" and \"\n",
    "        else:\n",
    "            answer_string += questions[question_id]\n",
    "    context.bot.send_message(\n",
    "        context.bot_data[poll_id][\"chat_id\"],\n",
    "        f\"{update.effective_user.mention_html()} feels {answer_string}!\",\n",
    "        parse_mode=ParseMode.HTML,\n",
    "    )\n",
    "    context.bot_data[poll_id][\"answers\"] += 1\n",
    "    # Close poll after three participants voted\n",
    "    if context.bot_data[poll_id][\"answers\"] == 3:\n",
    "        context.bot.stop_poll(\n",
    "            context.bot_data[poll_id][\"chat_id\"], context.bot_data[poll_id][\"message_id\"]\n",
    "        )"
   ]
  },
  {
   "cell_type": "code",
   "execution_count": null,
   "id": "27704130-36ce-4008-a43e-a826a698fa78",
   "metadata": {},
   "outputs": [],
   "source": [
    "def dados_clima(token, lat, lon):\n",
    "    values = []\n",
    "    r = requests.get(f'https://api.openweathermap.org/data/2.5/onecall?lat={lat}&lon={lon}&lang=pt_br&units=metric&exclude=minutely,hourly&appid={token}')\n",
    "    for i in range(1, 4):\n",
    "        values.append(r.json()['daily'][i]['weather'][0]['description'])\n",
    "    return values"
   ]
  },
  {
   "cell_type": "code",
   "execution_count": null,
   "id": "815b74e1-1dc2-4791-8dec-df26ca8d7441",
   "metadata": {},
   "outputs": [],
   "source": []
  }
 ],
 "metadata": {
  "kernelspec": {
   "display_name": "Python 3 (ipykernel)",
   "language": "python",
   "name": "python3"
  },
  "language_info": {
   "codemirror_mode": {
    "name": "ipython",
    "version": 3
   },
   "file_extension": ".py",
   "mimetype": "text/x-python",
   "name": "python",
   "nbconvert_exporter": "python",
   "pygments_lexer": "ipython3",
   "version": "3.7.5"
  }
 },
 "nbformat": 4,
 "nbformat_minor": 5
}
